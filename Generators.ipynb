{
 "cells": [
  {
   "cell_type": "markdown",
   "metadata": {},
   "source": [
    "# Generators explained\n",
    "## Target audience\n",
    "Beginners who are familiar with the basics of python. Exposure to basic concepts like iteration using for loops and while loops are required. Knowledge of classes will help.\n",
    "\n",
    "## Objective\n",
    "To gain a conceptual understanding of how python generators work, and how to use them to make your code more efficient and sleek.\n",
    "\n",
    "## Outline\n",
    "* What are generators? (~5 min)\n",
    "    * Introduction to standard iteration\n",
    "    * Iteration using generator functions\n",
    "        * Infinite series\n",
    "    * Generator expressions\n",
    "* How do they work? (~7 min)\n",
    "    * Sending data back into generators\n",
    "        * Example - Running metric evaluation\n",
    "    * Stacking generators and the `yield from` statement\n",
    "        * Example - binary tree traversal\n",
    "* A brief foray into async and co-routines (~5 min)\n",
    "    * Understanding `yield`\n",
    "* Generators in practice - data loading in machine learning (~3 min)"
   ]
  },
  {
   "cell_type": "markdown",
   "metadata": {},
   "source": [
    "# Iteration\n",
    "Iteration is a type of control flow in which a set of statements are repeated. Suppose we want the first `n` square numbers. We can iterate over the first `n` numbers and square each one as follows:"
   ]
  },
  {
   "cell_type": "code",
   "execution_count": 1,
   "metadata": {},
   "outputs": [],
   "source": [
    "def squares(n):\n",
    "    i = 1\n",
    "    out = []\n",
    "    while i<n:\n",
    "        out.append(i**2)\n",
    "        i+=1\n",
    "    return out"
   ]
  },
  {
   "cell_type": "code",
   "execution_count": 2,
   "metadata": {},
   "outputs": [
    {
     "data": {
      "text/plain": [
       "[1, 4, 9, 16, 25, 36, 49, 64, 81]"
      ]
     },
     "execution_count": 2,
     "metadata": {},
     "output_type": "execute_result"
    }
   ],
   "source": [
    "squares(10)"
   ]
  },
  {
   "cell_type": "markdown",
   "metadata": {},
   "source": [
    "But this restricts us to a finite `n`. If we desire a stream of squares indefinitely, this method has two issues:\n",
    "* If we know an upper limit on the number of squares, we can just make all the squares until then and store them. However, this requires a huge amount of memory and is highly inefficient.\n",
    "* If we do not know any upper limit, this method is no good.\n",
    "\n",
    "We can solve these issues using a __generator__ function."
   ]
  },
  {
   "cell_type": "markdown",
   "metadata": {},
   "source": [
    "# Generators\n",
    "Any function with a `yield` statement in it becomes a special type of function called a generator function. An example will help us understand what this means."
   ]
  },
  {
   "cell_type": "code",
   "execution_count": 3,
   "metadata": {},
   "outputs": [],
   "source": [
    "def squares():\n",
    "    i = 1\n",
    "    while True:\n",
    "        yield i**2 # where the magic happens\n",
    "        i+=1"
   ]
  },
  {
   "cell_type": "markdown",
   "metadata": {},
   "source": [
    "When you call the `squares` function, you get back a `generator` object: "
   ]
  },
  {
   "cell_type": "code",
   "execution_count": 4,
   "metadata": {},
   "outputs": [
    {
     "data": {
      "text/plain": [
       "<generator object squares at 0x000002C47EC8CA98>"
      ]
     },
     "execution_count": 4,
     "metadata": {},
     "output_type": "execute_result"
    }
   ],
   "source": [
    "g = squares()\n",
    "g"
   ]
  },
  {
   "cell_type": "markdown",
   "metadata": {},
   "source": [
    "You call the `next` function on generator objects to get whatever they yield:"
   ]
  },
  {
   "cell_type": "code",
   "execution_count": 5,
   "metadata": {},
   "outputs": [
    {
     "data": {
      "text/plain": [
       "1"
      ]
     },
     "execution_count": 5,
     "metadata": {},
     "output_type": "execute_result"
    }
   ],
   "source": [
    "next(g)"
   ]
  },
  {
   "cell_type": "code",
   "execution_count": 6,
   "metadata": {},
   "outputs": [
    {
     "data": {
      "text/plain": [
       "4"
      ]
     },
     "execution_count": 6,
     "metadata": {},
     "output_type": "execute_result"
    }
   ],
   "source": [
    "next(g)"
   ]
  },
  {
   "cell_type": "code",
   "execution_count": 7,
   "metadata": {},
   "outputs": [
    {
     "data": {
      "text/plain": [
       "9"
      ]
     },
     "execution_count": 7,
     "metadata": {},
     "output_type": "execute_result"
    }
   ],
   "source": [
    "next(g)"
   ]
  },
  {
   "cell_type": "markdown",
   "metadata": {},
   "source": [
    "What happens when you call `next` on a generator is that the control goes into the function and continues fom where it left off. It executes until it hits a yield statement and stops.\n",
    "\n",
    "The first time we call `next`, the following statements are executed:\n",
    "\n",
    "    i=1\n",
    "    while True:\n",
    "        yield i**2\n",
    "        \n",
    "Then execution stops, and whatever is yielded is returned (1\\*\\*2 = 1 in this case).\n",
    "\n",
    "The next time we call `next`, the control is stuck in the infinite loop, so it only executes the two statements:\n",
    "\n",
    "    while True:\n",
    "        yield i**2 # then loops back to the yield\n",
    "        i+=1  # first executes this\n",
    "        \n",
    "This can go on forever, as there is always something the function can yield."
   ]
  },
  {
   "cell_type": "markdown",
   "metadata": {},
   "source": [
    "Let's look at a generator which doesn't go on forever:"
   ]
  },
  {
   "cell_type": "code",
   "execution_count": 8,
   "metadata": {},
   "outputs": [],
   "source": [
    "def countdown(n):\n",
    "    while n>0:\n",
    "        yield n\n",
    "        n-=1"
   ]
  },
  {
   "cell_type": "markdown",
   "metadata": {},
   "source": [
    "This generator basically counts down from some `n` until it hits 0."
   ]
  },
  {
   "cell_type": "code",
   "execution_count": 9,
   "metadata": {},
   "outputs": [],
   "source": [
    "countdown_3 = countdown(3)"
   ]
  },
  {
   "cell_type": "code",
   "execution_count": 10,
   "metadata": {},
   "outputs": [
    {
     "data": {
      "text/plain": [
       "3"
      ]
     },
     "execution_count": 10,
     "metadata": {},
     "output_type": "execute_result"
    }
   ],
   "source": [
    "next(countdown_3)"
   ]
  },
  {
   "cell_type": "code",
   "execution_count": 11,
   "metadata": {},
   "outputs": [
    {
     "data": {
      "text/plain": [
       "2"
      ]
     },
     "execution_count": 11,
     "metadata": {},
     "output_type": "execute_result"
    }
   ],
   "source": [
    "next(countdown_3)"
   ]
  },
  {
   "cell_type": "code",
   "execution_count": 12,
   "metadata": {},
   "outputs": [
    {
     "data": {
      "text/plain": [
       "1"
      ]
     },
     "execution_count": 12,
     "metadata": {},
     "output_type": "execute_result"
    }
   ],
   "source": [
    "next(countdown_3)"
   ]
  },
  {
   "cell_type": "code",
   "execution_count": 13,
   "metadata": {},
   "outputs": [
    {
     "ename": "StopIteration",
     "evalue": "",
     "output_type": "error",
     "traceback": [
      "\u001b[1;31m---------------------------------------------------------------------------\u001b[0m",
      "\u001b[1;31mStopIteration\u001b[0m                             Traceback (most recent call last)",
      "\u001b[1;32m<ipython-input-13-7239c8dfeb4a>\u001b[0m in \u001b[0;36m<module>\u001b[1;34m()\u001b[0m\n\u001b[1;32m----> 1\u001b[1;33m \u001b[0mnext\u001b[0m\u001b[1;33m(\u001b[0m\u001b[0mcountdown_3\u001b[0m\u001b[1;33m)\u001b[0m\u001b[1;33m\u001b[0m\u001b[0m\n\u001b[0m",
      "\u001b[1;31mStopIteration\u001b[0m: "
     ]
    }
   ],
   "source": [
    "next(countdown_3)"
   ]
  },
  {
   "cell_type": "markdown",
   "metadata": {},
   "source": [
    "Now we see that if there are no yield statements when next is called, a `StopIteration` exception is raised. This means the generator is out of things to generate."
   ]
  },
  {
   "cell_type": "markdown",
   "metadata": {},
   "source": [
    "This business of calling next everytime is a bit of a hassle. But, python's for loops can actually loop over a generator and automatically call the next for you:"
   ]
  },
  {
   "cell_type": "code",
   "execution_count": 14,
   "metadata": {},
   "outputs": [
    {
     "name": "stdout",
     "output_type": "stream",
     "text": [
      "10\n",
      "9\n",
      "8\n",
      "7\n",
      "6\n",
      "5\n",
      "4\n",
      "3\n",
      "2\n",
      "1\n"
     ]
    }
   ],
   "source": [
    "for i in countdown(10):\n",
    "    print(i)"
   ]
  },
  {
   "cell_type": "markdown",
   "metadata": {},
   "source": [
    "Notice that no errors are thrown, and we didnt need to explicitly call next."
   ]
  },
  {
   "cell_type": "markdown",
   "metadata": {},
   "source": [
    "What we have done is to reformulate iteration using generators. When the above loop was executed, all 10 numbers were not stored. Only the single `n` was stored in the generator, which will save a lot of memory at scale."
   ]
  },
  {
   "cell_type": "markdown",
   "metadata": {},
   "source": [
    "You can also quickly whip up generators using one line __generator expressions__:"
   ]
  },
  {
   "cell_type": "code",
   "execution_count": 15,
   "metadata": {},
   "outputs": [
    {
     "data": {
      "text/plain": [
       "<generator object <genexpr> at 0x000002C47ED136D0>"
      ]
     },
     "execution_count": 15,
     "metadata": {},
     "output_type": "execute_result"
    }
   ],
   "source": [
    "g = (i**2 for i in range(10))\n",
    "g"
   ]
  },
  {
   "cell_type": "code",
   "execution_count": 16,
   "metadata": {},
   "outputs": [
    {
     "name": "stdout",
     "output_type": "stream",
     "text": [
      "0\n",
      "1\n",
      "4\n",
      "9\n",
      "16\n",
      "25\n",
      "36\n",
      "49\n",
      "64\n",
      "81\n"
     ]
    }
   ],
   "source": [
    "for i in g:\n",
    "    print(i)"
   ]
  },
  {
   "cell_type": "markdown",
   "metadata": {},
   "source": [
    "Note that this is different from a list comprehension(notice the lack of square brackets []) in that a list comprehension creates a whole list and stores it in memory."
   ]
  },
  {
   "cell_type": "code",
   "execution_count": 17,
   "metadata": {},
   "outputs": [
    {
     "data": {
      "text/plain": [
       "[0, 1, 4, 9, 16, 25, 36, 49, 64, 81]"
      ]
     },
     "execution_count": 17,
     "metadata": {},
     "output_type": "execute_result"
    }
   ],
   "source": [
    "g_list = [i**2 for i in range(10)]\n",
    "g_list"
   ]
  },
  {
   "cell_type": "markdown",
   "metadata": {},
   "source": [
    "## Sending to generators\n",
    "The yield statement can do more than just return a value when a next is called. It can also be used in expressions as the right hand side of an assignment:"
   ]
  },
  {
   "cell_type": "code",
   "execution_count": 18,
   "metadata": {},
   "outputs": [],
   "source": [
    "def recv():\n",
    "    a = yield\n",
    "    print(f\"I got: {a}\")\n",
    "    "
   ]
  },
  {
   "cell_type": "code",
   "execution_count": 19,
   "metadata": {},
   "outputs": [],
   "source": [
    "receiver = recv()"
   ]
  },
  {
   "cell_type": "markdown",
   "metadata": {},
   "source": [
    "The first `next` moves control over to the yield statement."
   ]
  },
  {
   "cell_type": "code",
   "execution_count": 20,
   "metadata": {},
   "outputs": [],
   "source": [
    "next(receiver)"
   ]
  },
  {
   "cell_type": "markdown",
   "metadata": {},
   "source": [
    "Then, we can send in a value into the yield statement using the `generator.send` function:"
   ]
  },
  {
   "cell_type": "code",
   "execution_count": 21,
   "metadata": {},
   "outputs": [
    {
     "name": "stdout",
     "output_type": "stream",
     "text": [
      "I got: 24\n"
     ]
    },
    {
     "ename": "StopIteration",
     "evalue": "",
     "output_type": "error",
     "traceback": [
      "\u001b[1;31m---------------------------------------------------------------------------\u001b[0m",
      "\u001b[1;31mStopIteration\u001b[0m                             Traceback (most recent call last)",
      "\u001b[1;32m<ipython-input-21-4f5b32c5862a>\u001b[0m in \u001b[0;36m<module>\u001b[1;34m()\u001b[0m\n\u001b[1;32m----> 1\u001b[1;33m \u001b[0mreceiver\u001b[0m\u001b[1;33m.\u001b[0m\u001b[0msend\u001b[0m\u001b[1;33m(\u001b[0m\u001b[1;36m24\u001b[0m\u001b[1;33m)\u001b[0m\u001b[1;33m\u001b[0m\u001b[0m\n\u001b[0m",
      "\u001b[1;31mStopIteration\u001b[0m: "
     ]
    }
   ],
   "source": [
    "receiver.send(24)"
   ]
  },
  {
   "cell_type": "markdown",
   "metadata": {},
   "source": [
    "Since there were no more yield statements, a stop iteration was also raised. \n",
    "\n",
    "Note that the first ever call to a generator must be a next call, as there is no yield statement in the beginning to send a value to:"
   ]
  },
  {
   "cell_type": "code",
   "execution_count": 22,
   "metadata": {},
   "outputs": [
    {
     "ename": "TypeError",
     "evalue": "can't send non-None value to a just-started generator",
     "output_type": "error",
     "traceback": [
      "\u001b[1;31m---------------------------------------------------------------------------\u001b[0m",
      "\u001b[1;31mTypeError\u001b[0m                                 Traceback (most recent call last)",
      "\u001b[1;32m<ipython-input-22-a8ba8ce5fdc5>\u001b[0m in \u001b[0;36m<module>\u001b[1;34m()\u001b[0m\n\u001b[0;32m      1\u001b[0m \u001b[0mreceiver\u001b[0m \u001b[1;33m=\u001b[0m \u001b[0mrecv\u001b[0m\u001b[1;33m(\u001b[0m\u001b[1;33m)\u001b[0m\u001b[1;33m\u001b[0m\u001b[0m\n\u001b[1;32m----> 2\u001b[1;33m \u001b[0mreceiver\u001b[0m\u001b[1;33m.\u001b[0m\u001b[0msend\u001b[0m\u001b[1;33m(\u001b[0m\u001b[1;36m5\u001b[0m\u001b[1;33m)\u001b[0m\u001b[1;33m\u001b[0m\u001b[0m\n\u001b[0m",
      "\u001b[1;31mTypeError\u001b[0m: can't send non-None value to a just-started generator"
     ]
    }
   ],
   "source": [
    "receiver = recv()\n",
    "receiver.send(5)"
   ]
  },
  {
   "cell_type": "markdown",
   "metadata": {},
   "source": [
    "Also, this reveals that calling the `next` function is equivalent to `generator.send(None)`"
   ]
  },
  {
   "cell_type": "markdown",
   "metadata": {},
   "source": [
    "The `yield` statement can be used both to recieve and return values. Lets look at this example which returns whatever was sent to it:"
   ]
  },
  {
   "cell_type": "code",
   "execution_count": 23,
   "metadata": {},
   "outputs": [],
   "source": [
    "def echo():\n",
    "    a = yield # first next call moves to this yield statement\n",
    "    while True:\n",
    "        a = yield a \n",
    "        # when control stops at this yield, return a\n",
    "        # when control begins from this yield, get the sent value and put it into a"
   ]
  },
  {
   "cell_type": "code",
   "execution_count": 24,
   "metadata": {},
   "outputs": [],
   "source": [
    "e = echo()\n",
    "next(e)"
   ]
  },
  {
   "cell_type": "code",
   "execution_count": 25,
   "metadata": {},
   "outputs": [
    {
     "data": {
      "text/plain": [
       "'hi'"
      ]
     },
     "execution_count": 25,
     "metadata": {},
     "output_type": "execute_result"
    }
   ],
   "source": [
    "e.send('hi')"
   ]
  },
  {
   "cell_type": "code",
   "execution_count": 26,
   "metadata": {},
   "outputs": [
    {
     "data": {
      "text/plain": [
       "42"
      ]
     },
     "execution_count": 26,
     "metadata": {},
     "output_type": "execute_result"
    }
   ],
   "source": [
    "e.send(42)"
   ]
  },
  {
   "cell_type": "markdown",
   "metadata": {},
   "source": [
    "We can better understand the `a = yield a` statement as follows:\n",
    "\n",
    "    variable = yield expr\n",
    "translates to\n",
    "\n",
    "    yield expr\n",
    "    variable = what was sent\n",
    "    "
   ]
  },
  {
   "cell_type": "markdown",
   "metadata": {},
   "source": [
    "So, what you yield doesnt affect what is assigned to the left hand side"
   ]
  },
  {
   "cell_type": "code",
   "execution_count": 27,
   "metadata": {},
   "outputs": [],
   "source": [
    "from pytorch_utils.nb_figure import *"
   ]
  },
  {
   "cell_type": "code",
   "execution_count": 28,
   "metadata": {},
   "outputs": [],
   "source": [
    "from pylab import *\n",
    "rcParams['axes.grid']=True\n",
    "style.use('dark_background')"
   ]
  },
  {
   "cell_type": "code",
   "execution_count": 29,
   "metadata": {},
   "outputs": [],
   "source": [
    "def test_updater(updater, num=200, u=0, sig=20):\n",
    "    \"\"\"Test a running updater on a noisy sinusoid. Assumes that\n",
    "    the updater has one function called send, which takes in x_n\n",
    "    and returns y_n.\"\"\"\n",
    "    \n",
    "    nf = NBFigure(image_path='testing_plot.png')\n",
    "    nf.display()\n",
    "    \n",
    "    ax = nf.getAxis()\n",
    "    inp, = ax.plot([])\n",
    "    l, = ax.plot([],'--')\n",
    "    \n",
    "    ax.legend(['Input', 'Output'])\n",
    "    \n",
    "    x = []\n",
    "    y = []\n",
    "    inputs = []\n",
    "    for i in range(200):\n",
    "        x.append(i)\n",
    "        \n",
    "        r = randn()*sig + u + 100*sin(0.1*i)\n",
    "        inputs.append(r)\n",
    "        y.append(updater.send(r))\n",
    "        \n",
    "        l.set_data(x,y)\n",
    "        inp.set_data(x,inputs)\n",
    "        \n",
    "        nf.update()"
   ]
  },
  {
   "cell_type": "markdown",
   "metadata": {},
   "source": [
    "Let's use this feature to build a running averager. First, let's build one without using generators:"
   ]
  },
  {
   "cell_type": "code",
   "execution_count": 30,
   "metadata": {},
   "outputs": [],
   "source": [
    "class RunningAvg():\n",
    "    def __init__(self):\n",
    "        self.n=0\n",
    "        self.s=0\n",
    "        \n",
    "    def reset(self):\n",
    "        self.n=0\n",
    "        self.s=0\n",
    "        \n",
    "    def send(self, x):\n",
    "        self.s+=x\n",
    "        self.n+=1\n",
    "        \n",
    "        return self.s/self.n"
   ]
  },
  {
   "cell_type": "code",
   "execution_count": 31,
   "metadata": {},
   "outputs": [
    {
     "data": {
      "image/png": "[encoded data removed]",
      "text/plain": [
       "<IPython.core.display.Image object>"
      ]
     },
     "metadata": {},
     "output_type": "display_data"
    }
   ],
   "source": [
    "test_updater(RunningAvg())"
   ]
  },
  {
   "cell_type": "markdown",
   "metadata": {},
   "source": [
    "It works fine, but the code is quite verbose, and we had to write a whole class just to build quite a simple thing. Let's write a version using the `yield` statement:"
   ]
  },
  {
   "cell_type": "code",
   "execution_count": 32,
   "metadata": {},
   "outputs": [],
   "source": [
    "def averager():\n",
    "    s = yield\n",
    "    n = 1\n",
    "    while True:\n",
    "        s += yield s/n\n",
    "        n += 1"
   ]
  },
  {
   "cell_type": "code",
   "execution_count": 33,
   "metadata": {},
   "outputs": [
    {
     "data": {
      "image/png": "[encoded data removed]",
      "text/plain": [
       "<IPython.core.display.Image object>"
      ]
     },
     "metadata": {},
     "output_type": "display_data"
    }
   ],
   "source": [
    "avg = averager()\n",
    "next(avg)\n",
    "test_updater(avg)"
   ]
  },
  {
   "cell_type": "markdown",
   "metadata": {},
   "source": [
    "Not only does that code look much cleaner and it is just one function, but it is also slightly faster as it avoids the overheads of a whole class:"
   ]
  },
  {
   "cell_type": "code",
   "execution_count": 34,
   "metadata": {},
   "outputs": [],
   "source": [
    "def test(updater, size=1_000_000):\n",
    "    \"\"\"Test performance of the updater by running \n",
    "    it on a large sequence of inputs\"\"\"\n",
    "    t = arange(size)\n",
    "    test_input = 100*sin(0.1*t)+randn(size)*20\n",
    "    output = [updater.send(i) for i in test_input]\n",
    "    return output"
   ]
  },
  {
   "cell_type": "code",
   "execution_count": 35,
   "metadata": {},
   "outputs": [
    {
     "name": "stdout",
     "output_type": "stream",
     "text": [
      "554 ms ± 12.6 ms per loop (mean ± std. dev. of 7 runs, 1 loop each)\n"
     ]
    }
   ],
   "source": [
    "%%timeit\n",
    "u = averager()\n",
    "next(u)\n",
    "test(u)"
   ]
  },
  {
   "cell_type": "code",
   "execution_count": 36,
   "metadata": {},
   "outputs": [
    {
     "name": "stdout",
     "output_type": "stream",
     "text": [
      "712 ms ± 27.1 ms per loop (mean ± std. dev. of 7 runs, 1 loop each)\n"
     ]
    }
   ],
   "source": [
    "%%timeit\n",
    "u = RunningAvg()\n",
    "test(u)"
   ]
  },
  {
   "cell_type": "markdown",
   "metadata": {},
   "source": [
    "# Stacking generators\n",
    "Suppose we had a generator which yields values another generator. An example of this is shown below"
   ]
  },
  {
   "cell_type": "code",
   "execution_count": 3,
   "metadata": {},
   "outputs": [],
   "source": [
    "def gen1():\n",
    "    yield 'a'\n",
    "    yield 'b'\n",
    "    yield 'c'"
   ]
  },
  {
   "cell_type": "code",
   "execution_count": 4,
   "metadata": {},
   "outputs": [],
   "source": [
    "def gen2():\n",
    "    for i in gen1():\n",
    "        yield i\n",
    "    yield 'd'\n",
    "    yield 'e'"
   ]
  },
  {
   "cell_type": "code",
   "execution_count": 6,
   "metadata": {},
   "outputs": [
    {
     "name": "stdout",
     "output_type": "stream",
     "text": [
      "a\n",
      "b\n",
      "c\n",
      "d\n",
      "e\n"
     ]
    }
   ],
   "source": [
    "for i in gen2():\n",
    "    print(i)"
   ]
  },
  {
   "cell_type": "markdown",
   "metadata": {},
   "source": [
    "A shorthand for the for loop over `gen1` is `yield from`."
   ]
  },
  {
   "cell_type": "code",
   "execution_count": 7,
   "metadata": {},
   "outputs": [],
   "source": [
    "def gen3():\n",
    "    yield from gen1()\n",
    "    yield 'd'\n",
    "    yield 'e'"
   ]
  },
  {
   "cell_type": "code",
   "execution_count": 8,
   "metadata": {},
   "outputs": [
    {
     "name": "stdout",
     "output_type": "stream",
     "text": [
      "a\n",
      "b\n",
      "c\n",
      "d\n",
      "e\n"
     ]
    }
   ],
   "source": [
    "for i in gen3():\n",
    "    print(i)"
   ]
  },
  {
   "cell_type": "markdown",
   "metadata": {},
   "source": [
    "The `yield from gen` expression can be roughly translated to:\n",
    "    \n",
    "    for i in gen\n",
    "        yield i\n",
    "        \n",
    "However, it has some more subtleties which will not be discussed here."
   ]
  },
  {
   "cell_type": "markdown",
   "metadata": {},
   "source": [
    "## Example of stacking generators\n",
    "One neat example of stacked generators is binary tree traversal. Recall that you can traverse a binary tree in three ways: \n",
    "\n",
    "* In-order\n",
    "* Pre-order\n",
    "* Post-order\n",
    "\n",
    "Before we get into generators, let's write some simple code to setup a binary tree, and then write an inorder traversal function without using generators."
   ]
  },
  {
   "cell_type": "code",
   "execution_count": 9,
   "metadata": {},
   "outputs": [],
   "source": [
    "class BTree():\n",
    "    def __init__(self, dat, left=None, right=None):\n",
    "        self.dat = dat\n",
    "        self.left = left\n",
    "        self.right = right"
   ]
  },
  {
   "cell_type": "markdown",
   "metadata": {},
   "source": [
    "Let's make a simple binary tree with 6 elements:"
   ]
  },
  {
   "cell_type": "code",
   "execution_count": 11,
   "metadata": {},
   "outputs": [],
   "source": [
    "one, three, six = BTree(1),BTree(3),BTree(6)\n",
    "two = BTree(2,one,three)\n",
    "five = BTree(5,left=None,right=six)\n",
    "four = BTree(4,two,five)\n",
    "root = four"
   ]
  },
  {
   "cell_type": "code",
   "execution_count": 12,
   "metadata": {},
   "outputs": [],
   "source": [
    "def inorder_loop(btree):\n",
    "    if btree==None:\n",
    "        return []\n",
    "    left = inorder_loop(btree.left)\n",
    "    right = inorder_loop(btree.right)\n",
    "    return left + [btree.dat] + right"
   ]
  },
  {
   "cell_type": "code",
   "execution_count": 13,
   "metadata": {},
   "outputs": [
    {
     "data": {
      "text/plain": [
       "[1, 2, 3, 4, 5, 6]"
      ]
     },
     "execution_count": 13,
     "metadata": {},
     "output_type": "execute_result"
    }
   ],
   "source": [
    "inorder_loop(root)"
   ]
  },
  {
   "cell_type": "code",
   "execution_count": 24,
   "metadata": {},
   "outputs": [],
   "source": [
    "def preorder_loop(btree):\n",
    "    if btree==None:\n",
    "        return []\n",
    "    left = preorder_loop(btree.left)\n",
    "    right = preorder_loop(btree.right)\n",
    "    return [btree.dat] + left  + right"
   ]
  },
  {
   "cell_type": "code",
   "execution_count": 25,
   "metadata": {},
   "outputs": [
    {
     "data": {
      "text/plain": [
       "[4, 2, 1, 3, 5, 6]"
      ]
     },
     "execution_count": 25,
     "metadata": {},
     "output_type": "execute_result"
    }
   ],
   "source": [
    "preorder_loop(root)"
   ]
  },
  {
   "cell_type": "markdown",
   "metadata": {},
   "source": [
    "It works well, and the code is quite concise and readable. However, we face the issue of memory if the tree is very large, as the traversal returns the whole list at once. Let's write a version using stacked generators:"
   ]
  },
  {
   "cell_type": "code",
   "execution_count": 26,
   "metadata": {},
   "outputs": [],
   "source": [
    "def inorder_gen(btree):\n",
    "    if btree != None:\n",
    "        yield from inorder_gen(btree.left)\n",
    "        yield btree.dat\n",
    "        yield from inorder_gen(btree.right)"
   ]
  },
  {
   "cell_type": "code",
   "execution_count": 27,
   "metadata": {},
   "outputs": [
    {
     "name": "stdout",
     "output_type": "stream",
     "text": [
      "1 2 3 4 5 6 "
     ]
    }
   ],
   "source": [
    "g = inorder_gen(root)\n",
    "for i in g:\n",
    "    print(i, end=' ')"
   ]
  },
  {
   "cell_type": "code",
   "execution_count": 28,
   "metadata": {},
   "outputs": [],
   "source": [
    "def preorder_gen(btree):\n",
    "    if btree != None:\n",
    "        yield btree.dat\n",
    "        yield from preorder_gen(btree.left)\n",
    "        yield from preorder_gen(btree.right)"
   ]
  },
  {
   "cell_type": "code",
   "execution_count": 29,
   "metadata": {},
   "outputs": [
    {
     "name": "stdout",
     "output_type": "stream",
     "text": [
      "4 2 1 3 5 6 "
     ]
    }
   ],
   "source": [
    "g = preorder_gen(root)\n",
    "for i in g:\n",
    "    print(i, end=' ')"
   ]
  },
  {
   "cell_type": "markdown",
   "metadata": {},
   "source": [
    "This version is much more sleek, and more memory efficient. Try to see where you can use generators in your code base to improve its memory consumption!"
   ]
  },
  {
   "cell_type": "markdown",
   "metadata": {},
   "source": [
    "# Digging deeper into yield"
   ]
  },
  {
   "cell_type": "markdown",
   "metadata": {},
   "source": [
    "We said earlier that any function with a yield statement in it becomes a whole new type of thing - a generator function. Let's try to get a better understanding of what this means. Consider this template for a normal function:"
   ]
  },
  {
   "cell_type": "code",
   "execution_count": 37,
   "metadata": {},
   "outputs": [],
   "source": [
    "def dostuff(a, b):\n",
    "    print(\"Doing setup work...\")\n",
    "    a += 1\n",
    "    b += 2\n",
    "    # some work\n",
    "    \n",
    "    print(\"Doing some stuff on args...\")\n",
    "    a,b = a**b, a**(1/b)\n",
    "    # some more work\n",
    "    \n",
    "    print(\"Doing lot of stuff on args...\")\n",
    "    # a lot of stuff we aren't interested in\n",
    "    \n",
    "    print(\"Returning some stuff...\")\n",
    "    return a+b"
   ]
  },
  {
   "cell_type": "markdown",
   "metadata": {},
   "source": [
    "Let's run it:"
   ]
  },
  {
   "cell_type": "code",
   "execution_count": 38,
   "metadata": {},
   "outputs": [
    {
     "name": "stdout",
     "output_type": "stream",
     "text": [
      "Doing setup work...\n",
      "Doing some stuff on args...\n",
      "Doing lot of stuff on args...\n",
      "Returning some stuff...\n"
     ]
    },
    {
     "data": {
      "text/plain": [
       "4097.259921049895"
      ]
     },
     "execution_count": 38,
     "metadata": {},
     "output_type": "execute_result"
    }
   ],
   "source": [
    "dostuff(3,4)"
   ]
  },
  {
   "cell_type": "markdown",
   "metadata": {},
   "source": [
    "No surprise there. The whole function ran and it returned the output we wanted."
   ]
  },
  {
   "cell_type": "markdown",
   "metadata": {},
   "source": [
    "Now, suppose in the section where there is a lot of stuff we aren't interested in, someone put a yield:"
   ]
  },
  {
   "cell_type": "code",
   "execution_count": 39,
   "metadata": {},
   "outputs": [],
   "source": [
    "def dostuff2(a, b):\n",
    "    print(\"Doing setup work...\")\n",
    "    a += 1\n",
    "    b += 2\n",
    "    # some work\n",
    "    \n",
    "    print(\"Doing some stuff on args...\")\n",
    "    a,b = a**b, a**(1/b)\n",
    "    # some more work\n",
    "    \n",
    "    print(\"Doing lot of stuff on args...\")\n",
    "    # a lot of stuff we aren't interested in\n",
    "    yield # we didn't expect this\n",
    "    \n",
    "    print(\"Returning some stuff...\")\n",
    "    return a+b"
   ]
  },
  {
   "cell_type": "markdown",
   "metadata": {},
   "source": [
    "Calling the function now doesn't do what we would expect if we didn't notice the yield:"
   ]
  },
  {
   "cell_type": "code",
   "execution_count": 40,
   "metadata": {},
   "outputs": [
    {
     "data": {
      "text/plain": [
       "<generator object dostuff2 at 0x000002C47FCF4308>"
      ]
     },
     "execution_count": 40,
     "metadata": {},
     "output_type": "execute_result"
    }
   ],
   "source": [
    "dostuff2(3,4)"
   ]
  },
  {
   "cell_type": "markdown",
   "metadata": {},
   "source": [
    "We get a generator object instead of the code running. Let's see what happens if we call next on this:"
   ]
  },
  {
   "cell_type": "code",
   "execution_count": 41,
   "metadata": {},
   "outputs": [],
   "source": [
    "g = _"
   ]
  },
  {
   "cell_type": "code",
   "execution_count": 42,
   "metadata": {},
   "outputs": [
    {
     "name": "stdout",
     "output_type": "stream",
     "text": [
      "Doing setup work...\n",
      "Doing some stuff on args...\n",
      "Doing lot of stuff on args...\n"
     ]
    }
   ],
   "source": [
    "next(g)"
   ]
  },
  {
   "cell_type": "markdown",
   "metadata": {},
   "source": [
    "We can see that all the code until the yield statement runs. Let's try another next:"
   ]
  },
  {
   "cell_type": "code",
   "execution_count": 43,
   "metadata": {},
   "outputs": [
    {
     "name": "stdout",
     "output_type": "stream",
     "text": [
      "Returning some stuff...\n"
     ]
    },
    {
     "ename": "StopIteration",
     "evalue": "4097.259921049895",
     "output_type": "error",
     "traceback": [
      "\u001b[1;31m---------------------------------------------------------------------------\u001b[0m",
      "\u001b[1;31mStopIteration\u001b[0m                             Traceback (most recent call last)",
      "\u001b[1;32m<ipython-input-43-e734f8aca5ac>\u001b[0m in \u001b[0;36m<module>\u001b[1;34m()\u001b[0m\n\u001b[1;32m----> 1\u001b[1;33m \u001b[0mnext\u001b[0m\u001b[1;33m(\u001b[0m\u001b[0mg\u001b[0m\u001b[1;33m)\u001b[0m\u001b[1;33m\u001b[0m\u001b[0m\n\u001b[0m",
      "\u001b[1;31mStopIteration\u001b[0m: 4097.259921049895"
     ]
    }
   ],
   "source": [
    "next(g)"
   ]
  },
  {
   "cell_type": "markdown",
   "metadata": {},
   "source": [
    "A `StopIteration` is raised, as we expected because there are no more yields. However, the value returned by function is the value of the exception... that's weird. What we have essentially done is to split up the execution of the function into different segments separated by the yield statement. Some of you may know that this is characteristic of a _coroutine_. Co-routines are functions which can pause execution and hand control over to another co-routine. They play a central role in the area of asynchronous concurrency. "
   ]
  },
  {
   "cell_type": "markdown",
   "metadata": {},
   "source": [
    "In python 3.5+, the whole async structure has been made easy using the keywords __async__ and __await__. I won't go into the details of these keywords in this talk, but you can read about them more online, to get a better understanding."
   ]
  },
  {
   "cell_type": "markdown",
   "metadata": {},
   "source": [
    "# Data loading in Machine Learning"
   ]
  },
  {
   "cell_type": "markdown",
   "metadata": {},
   "source": [
    "One of the most common use cases of generators in practice is in loading data for training machine learning algorithms. When training an algorithm on a huge dataset like ImageNet, which has more than 10 million images, it's impossible to load the whole dataset into your local RAM. This is the perfect place to use a generator to load images as and when they are rqeuired for training. I'll demo a brief examples of loading the MNIST dataset, which is a dataset containing handwritten digits using the pytorch `DataLoader` class."
   ]
  },
  {
   "cell_type": "code",
   "execution_count": 41,
   "metadata": {},
   "outputs": [],
   "source": [
    "from torchvision.transforms import *\n",
    "from torchvision.datasets import MNIST\n",
    "import torch.utils.data as data"
   ]
  },
  {
   "cell_type": "code",
   "execution_count": 42,
   "metadata": {},
   "outputs": [],
   "source": [
    "from pylab import *"
   ]
  },
  {
   "cell_type": "code",
   "execution_count": 43,
   "metadata": {},
   "outputs": [],
   "source": [
    "mnist_dataset = MNIST('/MNIST', transform=ToTensor()) # this downloads the dataset"
   ]
  },
  {
   "cell_type": "code",
   "execution_count": 44,
   "metadata": {},
   "outputs": [],
   "source": [
    "mnist_loader = data.DataLoader(mnist_dataset) # this creates a data loader object"
   ]
  },
  {
   "cell_type": "markdown",
   "metadata": {},
   "source": [
    "To get an iterator from the DataLoader object, we use the `iter` keyword. Note that iterators are slightly different from generators, but are essentially the same for most practical purposes. This means that you can still call `next` on them to yield the next value, you can embed them in for loops, etc."
   ]
  },
  {
   "cell_type": "code",
   "execution_count": 45,
   "metadata": {},
   "outputs": [
    {
     "data": {
      "text/plain": [
       "<torch.utils.data.dataloader._DataLoaderIter at 0x2e2d089f550>"
      ]
     },
     "execution_count": 45,
     "metadata": {},
     "output_type": "execute_result"
    }
   ],
   "source": [
    "mnist_iterator = iter(mnist_loader)\n",
    "mnist_iterator"
   ]
  },
  {
   "cell_type": "markdown",
   "metadata": {},
   "source": [
    "This iterators yields batches of images from the dataset. In this case, I'm using a batch size of 1. Let's get a batch and look at the first image in it."
   ]
  },
  {
   "cell_type": "code",
   "execution_count": 46,
   "metadata": {},
   "outputs": [
    {
     "data": {
      "text/plain": [
       "torch.Size([1, 1, 28, 28])"
      ]
     },
     "execution_count": 46,
     "metadata": {},
     "output_type": "execute_result"
    }
   ],
   "source": [
    "images, labels = next(mnist_iterator)\n",
    "images.shape"
   ]
  },
  {
   "cell_type": "code",
   "execution_count": 47,
   "metadata": {},
   "outputs": [
    {
     "data": {
      "image/png": "[encoded data removed]",
      "text/plain": [
       "<Figure size 432x288 with 1 Axes>"
      ]
     },
     "metadata": {},
     "output_type": "display_data"
    },
    {
     "name": "stdout",
     "output_type": "stream",
     "text": [
      "Label: 5\n"
     ]
    }
   ],
   "source": [
    "axis('off')\n",
    "imshow(images[0].squeeze())\n",
    "show()\n",
    "print(f\"Label: {labels[0]}\")"
   ]
  },
  {
   "cell_type": "markdown",
   "metadata": {},
   "source": [
    "Now, if we wish to loop over all the batches in our dataset, we can simply do the following:"
   ]
  },
  {
   "cell_type": "code",
   "execution_count": 50,
   "metadata": {},
   "outputs": [
    {
     "name": "stdout",
     "output_type": "stream",
     "text": [
      "Total of 60000 batches with a batch size of 1\n"
     ]
    }
   ],
   "source": [
    "batch_count = 0\n",
    "for images, labels in mnist_loader:\n",
    "    \n",
    "    # do some training logic\n",
    "    \n",
    "    # counting batches to demonstrate that the iterator works\n",
    "    batch_count += 1\n",
    "print(f\"Total of {batch_count} batches with a batch size of {images.shape[0]}\")"
   ]
  },
  {
   "cell_type": "code",
   "execution_count": null,
   "metadata": {},
   "outputs": [],
   "source": []
  }
 ],
 "metadata": {
  "kernelspec": {
   "display_name": "Python [default]",
   "language": "python",
   "name": "python3"
  },
  "language_info": {
   "codemirror_mode": {
    "name": "ipython",
    "version": 3
   },
   "file_extension": ".py",
   "mimetype": "text/x-python",
   "name": "python",
   "nbconvert_exporter": "python",
   "pygments_lexer": "ipython3",
   "version": "3.6.4"
  }
 },
 "nbformat": 4,
 "nbformat_minor": 2
}
