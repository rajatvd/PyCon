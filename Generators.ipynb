{
 "cells": [
  {
   "cell_type": "markdown",
   "metadata": {},
   "source": [
    "# Python generators\n",
    "## Target audience\n",
    "Beginners who are familiar with the basics of python.\n",
    "\n",
    "## Objective\n",
    "To gain an understanding of python generators, and how to use them to make your code more efficient and sleek.\n",
    "\n",
    "## Outline\n",
    "* What are generators?\n",
    "    * Introduction to standard iteration\n",
    "    * Iteration using generator functions\n",
    "        * Infinite series\n",
    "    * Generator expressions\n",
    "* How do they work?\n",
    "    * Understanding `yield`\n",
    "    * Stacking generators and the `yield from` statement\n",
    "        * Example - binary tree traversal\n",
    "    * Sending data back into generators\n",
    "        * Example - Running metric evaluation\n",
    "* Common use in practice - data loading in machine learning"
   ]
  },
  {
   "cell_type": "code",
   "execution_count": null,
   "metadata": {},
   "outputs": [],
   "source": []
  }
 ],
 "metadata": {
  "kernelspec": {
   "display_name": "Python [default]",
   "language": "python",
   "name": "python3"
  },
  "language_info": {
   "codemirror_mode": {
    "name": "ipython",
    "version": 3
   },
   "file_extension": ".py",
   "mimetype": "text/x-python",
   "name": "python",
   "nbconvert_exporter": "python",
   "pygments_lexer": "ipython3",
   "version": "3.6.4"
  }
 },
 "nbformat": 4,
 "nbformat_minor": 2
}
